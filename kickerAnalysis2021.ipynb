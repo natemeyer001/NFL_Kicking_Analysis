{
 "cells": [
  {
   "cell_type": "code",
   "execution_count": 1,
   "id": "fb6d937b",
   "metadata": {},
   "outputs": [],
   "source": [
    "import pandas as pd\n",
    "pd.set_option(\"display.max_columns\", None)\n",
    "import matplotlib.pyplot as plt"
   ]
  },
  {
   "cell_type": "code",
   "execution_count": 2,
   "id": "9ccc1387",
   "metadata": {
    "scrolled": true
   },
   "outputs": [
    {
     "data": {
      "text/html": [
       "<div>\n",
       "<style scoped>\n",
       "    .dataframe tbody tr th:only-of-type {\n",
       "        vertical-align: middle;\n",
       "    }\n",
       "\n",
       "    .dataframe tbody tr th {\n",
       "        vertical-align: top;\n",
       "    }\n",
       "\n",
       "    .dataframe thead th {\n",
       "        text-align: right;\n",
       "    }\n",
       "</style>\n",
       "<table border=\"1\" class=\"dataframe\">\n",
       "  <thead>\n",
       "    <tr style=\"text-align: right;\">\n",
       "      <th></th>\n",
       "      <th>season</th>\n",
       "      <th>week</th>\n",
       "      <th>season_type</th>\n",
       "      <th>team</th>\n",
       "      <th>player_name</th>\n",
       "      <th>player_id</th>\n",
       "      <th>fg_made</th>\n",
       "      <th>fg_missed</th>\n",
       "      <th>fg_blocked</th>\n",
       "      <th>fg_long</th>\n",
       "      <th>fg_att</th>\n",
       "      <th>fg_pct</th>\n",
       "      <th>pat_made</th>\n",
       "      <th>pat_missed</th>\n",
       "      <th>pat_blocked</th>\n",
       "      <th>pat_att</th>\n",
       "      <th>pat_pct</th>\n",
       "      <th>fg_made_distance</th>\n",
       "      <th>fg_missed_distance</th>\n",
       "      <th>fg_blocked_distance</th>\n",
       "      <th>gwfg_att</th>\n",
       "      <th>gwfg_distance</th>\n",
       "      <th>gwfg_made</th>\n",
       "      <th>gwfg_missed</th>\n",
       "      <th>gwfg_blocked</th>\n",
       "      <th>fg_made_0_19</th>\n",
       "      <th>fg_made_20_29</th>\n",
       "      <th>fg_made_30_39</th>\n",
       "      <th>fg_made_40_49</th>\n",
       "      <th>fg_made_50_59</th>\n",
       "      <th>fg_made_60_</th>\n",
       "      <th>fg_missed_0_19</th>\n",
       "      <th>fg_missed_20_29</th>\n",
       "      <th>fg_missed_30_39</th>\n",
       "      <th>fg_missed_40_49</th>\n",
       "      <th>fg_missed_50_59</th>\n",
       "      <th>fg_missed_60_</th>\n",
       "      <th>fg_made_list</th>\n",
       "      <th>fg_missed_list</th>\n",
       "      <th>fg_blocked_list</th>\n",
       "    </tr>\n",
       "  </thead>\n",
       "  <tbody>\n",
       "    <tr>\n",
       "      <th>0</th>\n",
       "      <td>2021</td>\n",
       "      <td>1</td>\n",
       "      <td>REG</td>\n",
       "      <td>ARI</td>\n",
       "      <td>M.Prater</td>\n",
       "      <td>00-0023853</td>\n",
       "      <td>1</td>\n",
       "      <td>1</td>\n",
       "      <td>0</td>\n",
       "      <td>34</td>\n",
       "      <td>2</td>\n",
       "      <td>0.5</td>\n",
       "      <td>5</td>\n",
       "      <td>0</td>\n",
       "      <td>0</td>\n",
       "      <td>5</td>\n",
       "      <td>1.000</td>\n",
       "      <td>34</td>\n",
       "      <td>43</td>\n",
       "      <td>0</td>\n",
       "      <td>0</td>\n",
       "      <td>0</td>\n",
       "      <td>0</td>\n",
       "      <td>0</td>\n",
       "      <td>0</td>\n",
       "      <td>0</td>\n",
       "      <td>0</td>\n",
       "      <td>1</td>\n",
       "      <td>0</td>\n",
       "      <td>0</td>\n",
       "      <td>0</td>\n",
       "      <td>0</td>\n",
       "      <td>0</td>\n",
       "      <td>0</td>\n",
       "      <td>1</td>\n",
       "      <td>0</td>\n",
       "      <td>0</td>\n",
       "      <td>34</td>\n",
       "      <td>43</td>\n",
       "      <td>NaN</td>\n",
       "    </tr>\n",
       "    <tr>\n",
       "      <th>1</th>\n",
       "      <td>2021</td>\n",
       "      <td>1</td>\n",
       "      <td>REG</td>\n",
       "      <td>ATL</td>\n",
       "      <td>Y.Koo</td>\n",
       "      <td>00-0033702</td>\n",
       "      <td>2</td>\n",
       "      <td>0</td>\n",
       "      <td>0</td>\n",
       "      <td>27</td>\n",
       "      <td>2</td>\n",
       "      <td>1.0</td>\n",
       "      <td>0</td>\n",
       "      <td>0</td>\n",
       "      <td>0</td>\n",
       "      <td>0</td>\n",
       "      <td>NaN</td>\n",
       "      <td>48</td>\n",
       "      <td>0</td>\n",
       "      <td>0</td>\n",
       "      <td>0</td>\n",
       "      <td>0</td>\n",
       "      <td>0</td>\n",
       "      <td>0</td>\n",
       "      <td>0</td>\n",
       "      <td>0</td>\n",
       "      <td>2</td>\n",
       "      <td>0</td>\n",
       "      <td>0</td>\n",
       "      <td>0</td>\n",
       "      <td>0</td>\n",
       "      <td>0</td>\n",
       "      <td>0</td>\n",
       "      <td>0</td>\n",
       "      <td>0</td>\n",
       "      <td>0</td>\n",
       "      <td>0</td>\n",
       "      <td>21;27</td>\n",
       "      <td>NaN</td>\n",
       "      <td>NaN</td>\n",
       "    </tr>\n",
       "    <tr>\n",
       "      <th>2</th>\n",
       "      <td>2021</td>\n",
       "      <td>1</td>\n",
       "      <td>REG</td>\n",
       "      <td>BAL</td>\n",
       "      <td>J.Tucker</td>\n",
       "      <td>00-0029597</td>\n",
       "      <td>2</td>\n",
       "      <td>0</td>\n",
       "      <td>0</td>\n",
       "      <td>47</td>\n",
       "      <td>2</td>\n",
       "      <td>1.0</td>\n",
       "      <td>3</td>\n",
       "      <td>0</td>\n",
       "      <td>0</td>\n",
       "      <td>3</td>\n",
       "      <td>1.000</td>\n",
       "      <td>87</td>\n",
       "      <td>0</td>\n",
       "      <td>0</td>\n",
       "      <td>0</td>\n",
       "      <td>0</td>\n",
       "      <td>0</td>\n",
       "      <td>0</td>\n",
       "      <td>0</td>\n",
       "      <td>0</td>\n",
       "      <td>0</td>\n",
       "      <td>0</td>\n",
       "      <td>2</td>\n",
       "      <td>0</td>\n",
       "      <td>0</td>\n",
       "      <td>0</td>\n",
       "      <td>0</td>\n",
       "      <td>0</td>\n",
       "      <td>0</td>\n",
       "      <td>0</td>\n",
       "      <td>0</td>\n",
       "      <td>40;47</td>\n",
       "      <td>NaN</td>\n",
       "      <td>NaN</td>\n",
       "    </tr>\n",
       "    <tr>\n",
       "      <th>3</th>\n",
       "      <td>2021</td>\n",
       "      <td>1</td>\n",
       "      <td>REG</td>\n",
       "      <td>BUF</td>\n",
       "      <td>T.Bass</td>\n",
       "      <td>00-0036162</td>\n",
       "      <td>3</td>\n",
       "      <td>0</td>\n",
       "      <td>0</td>\n",
       "      <td>42</td>\n",
       "      <td>3</td>\n",
       "      <td>1.0</td>\n",
       "      <td>1</td>\n",
       "      <td>0</td>\n",
       "      <td>0</td>\n",
       "      <td>1</td>\n",
       "      <td>1.000</td>\n",
       "      <td>104</td>\n",
       "      <td>0</td>\n",
       "      <td>0</td>\n",
       "      <td>0</td>\n",
       "      <td>0</td>\n",
       "      <td>0</td>\n",
       "      <td>0</td>\n",
       "      <td>0</td>\n",
       "      <td>0</td>\n",
       "      <td>1</td>\n",
       "      <td>1</td>\n",
       "      <td>1</td>\n",
       "      <td>0</td>\n",
       "      <td>0</td>\n",
       "      <td>0</td>\n",
       "      <td>0</td>\n",
       "      <td>0</td>\n",
       "      <td>0</td>\n",
       "      <td>0</td>\n",
       "      <td>0</td>\n",
       "      <td>37;25;42</td>\n",
       "      <td>NaN</td>\n",
       "      <td>NaN</td>\n",
       "    </tr>\n",
       "    <tr>\n",
       "      <th>4</th>\n",
       "      <td>2021</td>\n",
       "      <td>1</td>\n",
       "      <td>REG</td>\n",
       "      <td>CAR</td>\n",
       "      <td>R.Santoso</td>\n",
       "      <td>00-0034648</td>\n",
       "      <td>2</td>\n",
       "      <td>0</td>\n",
       "      <td>0</td>\n",
       "      <td>29</td>\n",
       "      <td>2</td>\n",
       "      <td>1.0</td>\n",
       "      <td>1</td>\n",
       "      <td>1</td>\n",
       "      <td>0</td>\n",
       "      <td>2</td>\n",
       "      <td>0.500</td>\n",
       "      <td>51</td>\n",
       "      <td>0</td>\n",
       "      <td>0</td>\n",
       "      <td>0</td>\n",
       "      <td>0</td>\n",
       "      <td>0</td>\n",
       "      <td>0</td>\n",
       "      <td>0</td>\n",
       "      <td>0</td>\n",
       "      <td>2</td>\n",
       "      <td>0</td>\n",
       "      <td>0</td>\n",
       "      <td>0</td>\n",
       "      <td>0</td>\n",
       "      <td>0</td>\n",
       "      <td>0</td>\n",
       "      <td>0</td>\n",
       "      <td>0</td>\n",
       "      <td>0</td>\n",
       "      <td>0</td>\n",
       "      <td>22;29</td>\n",
       "      <td>NaN</td>\n",
       "      <td>NaN</td>\n",
       "    </tr>\n",
       "    <tr>\n",
       "      <th>5</th>\n",
       "      <td>2021</td>\n",
       "      <td>1</td>\n",
       "      <td>REG</td>\n",
       "      <td>CHI</td>\n",
       "      <td>C.Santos</td>\n",
       "      <td>00-0031203</td>\n",
       "      <td>0</td>\n",
       "      <td>0</td>\n",
       "      <td>0</td>\n",
       "      <td>0</td>\n",
       "      <td>0</td>\n",
       "      <td>NaN</td>\n",
       "      <td>2</td>\n",
       "      <td>0</td>\n",
       "      <td>0</td>\n",
       "      <td>2</td>\n",
       "      <td>1.000</td>\n",
       "      <td>0</td>\n",
       "      <td>0</td>\n",
       "      <td>0</td>\n",
       "      <td>0</td>\n",
       "      <td>0</td>\n",
       "      <td>0</td>\n",
       "      <td>0</td>\n",
       "      <td>0</td>\n",
       "      <td>0</td>\n",
       "      <td>0</td>\n",
       "      <td>0</td>\n",
       "      <td>0</td>\n",
       "      <td>0</td>\n",
       "      <td>0</td>\n",
       "      <td>0</td>\n",
       "      <td>0</td>\n",
       "      <td>0</td>\n",
       "      <td>0</td>\n",
       "      <td>0</td>\n",
       "      <td>0</td>\n",
       "      <td>NaN</td>\n",
       "      <td>NaN</td>\n",
       "      <td>NaN</td>\n",
       "    </tr>\n",
       "    <tr>\n",
       "      <th>6</th>\n",
       "      <td>2021</td>\n",
       "      <td>1</td>\n",
       "      <td>REG</td>\n",
       "      <td>CIN</td>\n",
       "      <td>E.McPherson</td>\n",
       "      <td>00-0036854</td>\n",
       "      <td>2</td>\n",
       "      <td>0</td>\n",
       "      <td>0</td>\n",
       "      <td>53</td>\n",
       "      <td>2</td>\n",
       "      <td>1.0</td>\n",
       "      <td>3</td>\n",
       "      <td>0</td>\n",
       "      <td>0</td>\n",
       "      <td>3</td>\n",
       "      <td>1.000</td>\n",
       "      <td>86</td>\n",
       "      <td>0</td>\n",
       "      <td>0</td>\n",
       "      <td>1</td>\n",
       "      <td>33</td>\n",
       "      <td>1</td>\n",
       "      <td>0</td>\n",
       "      <td>0</td>\n",
       "      <td>0</td>\n",
       "      <td>0</td>\n",
       "      <td>1</td>\n",
       "      <td>0</td>\n",
       "      <td>1</td>\n",
       "      <td>0</td>\n",
       "      <td>0</td>\n",
       "      <td>0</td>\n",
       "      <td>0</td>\n",
       "      <td>0</td>\n",
       "      <td>0</td>\n",
       "      <td>0</td>\n",
       "      <td>53;33</td>\n",
       "      <td>NaN</td>\n",
       "      <td>NaN</td>\n",
       "    </tr>\n",
       "    <tr>\n",
       "      <th>7</th>\n",
       "      <td>2021</td>\n",
       "      <td>1</td>\n",
       "      <td>REG</td>\n",
       "      <td>CLE</td>\n",
       "      <td>C.McLaughlin</td>\n",
       "      <td>00-0035358</td>\n",
       "      <td>0</td>\n",
       "      <td>0</td>\n",
       "      <td>0</td>\n",
       "      <td>0</td>\n",
       "      <td>0</td>\n",
       "      <td>NaN</td>\n",
       "      <td>3</td>\n",
       "      <td>0</td>\n",
       "      <td>0</td>\n",
       "      <td>3</td>\n",
       "      <td>1.000</td>\n",
       "      <td>0</td>\n",
       "      <td>0</td>\n",
       "      <td>0</td>\n",
       "      <td>0</td>\n",
       "      <td>0</td>\n",
       "      <td>0</td>\n",
       "      <td>0</td>\n",
       "      <td>0</td>\n",
       "      <td>0</td>\n",
       "      <td>0</td>\n",
       "      <td>0</td>\n",
       "      <td>0</td>\n",
       "      <td>0</td>\n",
       "      <td>0</td>\n",
       "      <td>0</td>\n",
       "      <td>0</td>\n",
       "      <td>0</td>\n",
       "      <td>0</td>\n",
       "      <td>0</td>\n",
       "      <td>0</td>\n",
       "      <td>NaN</td>\n",
       "      <td>NaN</td>\n",
       "      <td>NaN</td>\n",
       "    </tr>\n",
       "    <tr>\n",
       "      <th>8</th>\n",
       "      <td>2021</td>\n",
       "      <td>1</td>\n",
       "      <td>REG</td>\n",
       "      <td>DAL</td>\n",
       "      <td>G.Zuerlein</td>\n",
       "      <td>00-0029621</td>\n",
       "      <td>3</td>\n",
       "      <td>2</td>\n",
       "      <td>0</td>\n",
       "      <td>48</td>\n",
       "      <td>5</td>\n",
       "      <td>0.6</td>\n",
       "      <td>2</td>\n",
       "      <td>1</td>\n",
       "      <td>0</td>\n",
       "      <td>3</td>\n",
       "      <td>0.667</td>\n",
       "      <td>104</td>\n",
       "      <td>91</td>\n",
       "      <td>0</td>\n",
       "      <td>0</td>\n",
       "      <td>0</td>\n",
       "      <td>0</td>\n",
       "      <td>0</td>\n",
       "      <td>0</td>\n",
       "      <td>0</td>\n",
       "      <td>1</td>\n",
       "      <td>1</td>\n",
       "      <td>1</td>\n",
       "      <td>0</td>\n",
       "      <td>0</td>\n",
       "      <td>0</td>\n",
       "      <td>0</td>\n",
       "      <td>1</td>\n",
       "      <td>0</td>\n",
       "      <td>0</td>\n",
       "      <td>1</td>\n",
       "      <td>35;21;48</td>\n",
       "      <td>31;60</td>\n",
       "      <td>NaN</td>\n",
       "    </tr>\n",
       "    <tr>\n",
       "      <th>9</th>\n",
       "      <td>2021</td>\n",
       "      <td>1</td>\n",
       "      <td>REG</td>\n",
       "      <td>DEN</td>\n",
       "      <td>B.McManus</td>\n",
       "      <td>00-0029822</td>\n",
       "      <td>2</td>\n",
       "      <td>0</td>\n",
       "      <td>0</td>\n",
       "      <td>36</td>\n",
       "      <td>2</td>\n",
       "      <td>1.0</td>\n",
       "      <td>3</td>\n",
       "      <td>0</td>\n",
       "      <td>0</td>\n",
       "      <td>3</td>\n",
       "      <td>1.000</td>\n",
       "      <td>59</td>\n",
       "      <td>0</td>\n",
       "      <td>0</td>\n",
       "      <td>0</td>\n",
       "      <td>0</td>\n",
       "      <td>0</td>\n",
       "      <td>0</td>\n",
       "      <td>0</td>\n",
       "      <td>0</td>\n",
       "      <td>1</td>\n",
       "      <td>1</td>\n",
       "      <td>0</td>\n",
       "      <td>0</td>\n",
       "      <td>0</td>\n",
       "      <td>0</td>\n",
       "      <td>0</td>\n",
       "      <td>0</td>\n",
       "      <td>0</td>\n",
       "      <td>0</td>\n",
       "      <td>0</td>\n",
       "      <td>23;36</td>\n",
       "      <td>NaN</td>\n",
       "      <td>NaN</td>\n",
       "    </tr>\n",
       "  </tbody>\n",
       "</table>\n",
       "</div>"
      ],
      "text/plain": [
       "   season  week season_type team   player_name   player_id  fg_made  \\\n",
       "0    2021     1         REG  ARI      M.Prater  00-0023853        1   \n",
       "1    2021     1         REG  ATL         Y.Koo  00-0033702        2   \n",
       "2    2021     1         REG  BAL      J.Tucker  00-0029597        2   \n",
       "3    2021     1         REG  BUF        T.Bass  00-0036162        3   \n",
       "4    2021     1         REG  CAR     R.Santoso  00-0034648        2   \n",
       "5    2021     1         REG  CHI      C.Santos  00-0031203        0   \n",
       "6    2021     1         REG  CIN   E.McPherson  00-0036854        2   \n",
       "7    2021     1         REG  CLE  C.McLaughlin  00-0035358        0   \n",
       "8    2021     1         REG  DAL    G.Zuerlein  00-0029621        3   \n",
       "9    2021     1         REG  DEN     B.McManus  00-0029822        2   \n",
       "\n",
       "   fg_missed  fg_blocked  fg_long  fg_att  fg_pct  pat_made  pat_missed  \\\n",
       "0          1           0       34       2     0.5         5           0   \n",
       "1          0           0       27       2     1.0         0           0   \n",
       "2          0           0       47       2     1.0         3           0   \n",
       "3          0           0       42       3     1.0         1           0   \n",
       "4          0           0       29       2     1.0         1           1   \n",
       "5          0           0        0       0     NaN         2           0   \n",
       "6          0           0       53       2     1.0         3           0   \n",
       "7          0           0        0       0     NaN         3           0   \n",
       "8          2           0       48       5     0.6         2           1   \n",
       "9          0           0       36       2     1.0         3           0   \n",
       "\n",
       "   pat_blocked  pat_att  pat_pct  fg_made_distance  fg_missed_distance  \\\n",
       "0            0        5    1.000                34                  43   \n",
       "1            0        0      NaN                48                   0   \n",
       "2            0        3    1.000                87                   0   \n",
       "3            0        1    1.000               104                   0   \n",
       "4            0        2    0.500                51                   0   \n",
       "5            0        2    1.000                 0                   0   \n",
       "6            0        3    1.000                86                   0   \n",
       "7            0        3    1.000                 0                   0   \n",
       "8            0        3    0.667               104                  91   \n",
       "9            0        3    1.000                59                   0   \n",
       "\n",
       "   fg_blocked_distance  gwfg_att  gwfg_distance  gwfg_made  gwfg_missed  \\\n",
       "0                    0         0              0          0            0   \n",
       "1                    0         0              0          0            0   \n",
       "2                    0         0              0          0            0   \n",
       "3                    0         0              0          0            0   \n",
       "4                    0         0              0          0            0   \n",
       "5                    0         0              0          0            0   \n",
       "6                    0         1             33          1            0   \n",
       "7                    0         0              0          0            0   \n",
       "8                    0         0              0          0            0   \n",
       "9                    0         0              0          0            0   \n",
       "\n",
       "   gwfg_blocked  fg_made_0_19  fg_made_20_29  fg_made_30_39  fg_made_40_49  \\\n",
       "0             0             0              0              1              0   \n",
       "1             0             0              2              0              0   \n",
       "2             0             0              0              0              2   \n",
       "3             0             0              1              1              1   \n",
       "4             0             0              2              0              0   \n",
       "5             0             0              0              0              0   \n",
       "6             0             0              0              1              0   \n",
       "7             0             0              0              0              0   \n",
       "8             0             0              1              1              1   \n",
       "9             0             0              1              1              0   \n",
       "\n",
       "   fg_made_50_59  fg_made_60_  fg_missed_0_19  fg_missed_20_29  \\\n",
       "0              0            0               0                0   \n",
       "1              0            0               0                0   \n",
       "2              0            0               0                0   \n",
       "3              0            0               0                0   \n",
       "4              0            0               0                0   \n",
       "5              0            0               0                0   \n",
       "6              1            0               0                0   \n",
       "7              0            0               0                0   \n",
       "8              0            0               0                0   \n",
       "9              0            0               0                0   \n",
       "\n",
       "   fg_missed_30_39  fg_missed_40_49  fg_missed_50_59  fg_missed_60_  \\\n",
       "0                0                1                0              0   \n",
       "1                0                0                0              0   \n",
       "2                0                0                0              0   \n",
       "3                0                0                0              0   \n",
       "4                0                0                0              0   \n",
       "5                0                0                0              0   \n",
       "6                0                0                0              0   \n",
       "7                0                0                0              0   \n",
       "8                1                0                0              1   \n",
       "9                0                0                0              0   \n",
       "\n",
       "  fg_made_list fg_missed_list fg_blocked_list  \n",
       "0           34             43             NaN  \n",
       "1        21;27            NaN             NaN  \n",
       "2        40;47            NaN             NaN  \n",
       "3     37;25;42            NaN             NaN  \n",
       "4        22;29            NaN             NaN  \n",
       "5          NaN            NaN             NaN  \n",
       "6        53;33            NaN             NaN  \n",
       "7          NaN            NaN             NaN  \n",
       "8     35;21;48          31;60             NaN  \n",
       "9        23;36            NaN             NaN  "
      ]
     },
     "execution_count": 2,
     "metadata": {},
     "output_type": "execute_result"
    }
   ],
   "source": [
    "file = \"kicking/player_stats_kicking_2021.csv.gz\"\n",
    "df = pd.read_csv(file, compression='gzip', error_bad_lines=False)\n",
    "df.head(10)\n",
    "# Note: data is broken down by week for each kicker"
   ]
  },
  {
   "cell_type": "markdown",
   "id": "4426acd0",
   "metadata": {},
   "source": [
    "## Functions to correct fg_lists \n",
    "currently [\"21;27\"] - change to [21, 27]"
   ]
  },
  {
   "cell_type": "code",
   "execution_count": 3,
   "id": "475d7968",
   "metadata": {},
   "outputs": [],
   "source": [
    "def correct_list(df_col):\n",
    "    if pd.isna(df_col):\n",
    "        return []\n",
    "    else:\n",
    "        split_list = df_col.split(\";\")\n",
    "        return [int(x) for x in split_list]"
   ]
  },
  {
   "cell_type": "code",
   "execution_count": 4,
   "id": "baf9a7d2",
   "metadata": {},
   "outputs": [
    {
     "data": {
      "text/plain": [
       "fg_made_list       35;21;48\n",
       "fg_missed_list        31;60\n",
       "fg_blocked_list         NaN\n",
       "Name: 8, dtype: object"
      ]
     },
     "execution_count": 4,
     "metadata": {},
     "output_type": "execute_result"
    }
   ],
   "source": [
    "# BEFORE\n",
    "df.loc[8, [\"fg_made_list\", \"fg_missed_list\", \"fg_blocked_list\"]]"
   ]
  },
  {
   "cell_type": "code",
   "execution_count": 5,
   "id": "524a1100",
   "metadata": {},
   "outputs": [],
   "source": [
    "df[\"fg_made_list\"] = df[\"fg_made_list\"].apply(correct_list)\n",
    "df[\"fg_missed_list\"] = df[\"fg_missed_list\"].apply(correct_list)\n",
    "df[\"fg_blocked_list\"] = df[\"fg_blocked_list\"].apply(correct_list)"
   ]
  },
  {
   "cell_type": "code",
   "execution_count": 6,
   "id": "77727d81",
   "metadata": {},
   "outputs": [
    {
     "data": {
      "text/plain": [
       "fg_made_list       [35, 21, 48]\n",
       "fg_missed_list         [31, 60]\n",
       "fg_blocked_list              []\n",
       "Name: 8, dtype: object"
      ]
     },
     "execution_count": 6,
     "metadata": {},
     "output_type": "execute_result"
    }
   ],
   "source": [
    "# AFTER\n",
    "df.loc[8, [\"fg_made_list\", \"fg_missed_list\", \"fg_blocked_list\"]]"
   ]
  },
  {
   "cell_type": "markdown",
   "id": "62518064",
   "metadata": {},
   "source": [
    "## Function to calculate season average for field goals from all distances"
   ]
  },
  {
   "cell_type": "code",
   "execution_count": 7,
   "id": "4423a265",
   "metadata": {},
   "outputs": [],
   "source": [
    "def calculate_basic_average(df):\n",
    "    made = df[\"fg_made\"].sum()\n",
    "    attempted = df[\"fg_att\"].sum()\n",
    "    return round(100*made/(attempted), 1)"
   ]
  },
  {
   "cell_type": "code",
   "execution_count": 8,
   "id": "366ed5c3",
   "metadata": {},
   "outputs": [
    {
     "name": "stdout",
     "output_type": "stream",
     "text": [
      "The overall average for field goals was: 85.3%\n"
     ]
    }
   ],
   "source": [
    "basic_average = calculate_basic_average(df)\n",
    "print(f\"The overall average for field goals was: {basic_average}%\")"
   ]
  },
  {
   "cell_type": "markdown",
   "id": "59eb2783",
   "metadata": {},
   "source": [
    "## Look at extra point conversion (calculate expected value)"
   ]
  },
  {
   "cell_type": "code",
   "execution_count": 9,
   "id": "32d7b14b",
   "metadata": {},
   "outputs": [
    {
     "name": "stdout",
     "output_type": "stream",
     "text": [
      "There were 1317 attempted extra points and 1231 were made for a percent of 93.47%\n"
     ]
    }
   ],
   "source": [
    "made_xp = df[\"pat_made\"].sum()\n",
    "attempted_xp = df[\"pat_att\"].sum()\n",
    "xp_perc = round(made_xp/attempted_xp, 4)\n",
    "print(f\"There were {attempted_xp} attempted extra points and {made_xp} were made for a percent of {round(100*xp_perc,2)}%\")"
   ]
  },
  {
   "cell_type": "markdown",
   "id": "547eb1aa",
   "metadata": {},
   "source": [
    "## Function to collect data for each fg distance"
   ]
  },
  {
   "cell_type": "code",
   "execution_count": 10,
   "id": "de993e8d",
   "metadata": {},
   "outputs": [],
   "source": [
    "def make_fg_by_yard_dict(df):\n",
    "    # dictionary to hold [attempts, makes] for each distance tried\n",
    "    fg_dict = {}\n",
    "    \n",
    "    # check each row for made kicks, missed kicks, blocked kicks\n",
    "    for row in range(len(df)):\n",
    "        made_list = df.loc[row, \"fg_made_list\"]\n",
    "        if len(made_list) > 0:\n",
    "            # go through each made kick\n",
    "            for j in range(len(made_list)):\n",
    "                # if the yard distance is in fg_dict add an attempt and make \n",
    "                if fg_dict.get(int(made_list[j])) is not None:\n",
    "                    fg_dict[int(made_list[j])][0] += 1\n",
    "                    fg_dict[int(made_list[j])][1] += 1\n",
    "                # otherwise create key with value of 1 make and 1 attempt\n",
    "                else:\n",
    "                    fg_dict[int(made_list[j])] = [1,1]\n",
    "                    \n",
    "        \n",
    "        missed_list = df.loc[row, \"fg_missed_list\"]\n",
    "        if len(missed_list) > 0:\n",
    "            for j in range(len(missed_list)):\n",
    "                if fg_dict.get(int(missed_list[j])) is not None:\n",
    "                    fg_dict[int(missed_list[j])][0] += 1\n",
    "                else:\n",
    "                    fg_dict[int(missed_list[j])] = [1,0]\n",
    "                    \n",
    "        blocked_list = df.loc[row, \"fg_blocked_list\"]\n",
    "        if len(blocked_list) > 0:\n",
    "            for j in range(len(blocked_list)):\n",
    "                if fg_dict.get(int(blocked_list[j])) is not None:\n",
    "                    fg_dict[int(blocked_list[j])][0] += 1\n",
    "                else:\n",
    "                    fg_dict[int(blocked_list[j])] = [1,0]\n",
    "                    \n",
    "    return(fg_dict) "
   ]
  },
  {
   "cell_type": "markdown",
   "id": "6ca60662",
   "metadata": {},
   "source": [
    "### Create dictionary and convert to percent, then sort by yards"
   ]
  },
  {
   "cell_type": "code",
   "execution_count": 11,
   "id": "fc16ea77",
   "metadata": {
    "scrolled": true
   },
   "outputs": [
    {
     "data": {
      "text/plain": [
       "{19: 100.0,\n",
       " 20: 100.0,\n",
       " 21: 100.0,\n",
       " 22: 96.0,\n",
       " 23: 100.0,\n",
       " 24: 100.0,\n",
       " 25: 95.65,\n",
       " 26: 100.0,\n",
       " 27: 100.0,\n",
       " 28: 100.0,\n",
       " 29: 100.0,\n",
       " 30: 100.0,\n",
       " 31: 97.3,\n",
       " 32: 91.3,\n",
       " 33: 96.3,\n",
       " 34: 93.94,\n",
       " 35: 90.62,\n",
       " 36: 85.0,\n",
       " 37: 91.67,\n",
       " 38: 100.0,\n",
       " 39: 87.5,\n",
       " 40: 87.1,\n",
       " 41: 79.31,\n",
       " 42: 70.0,\n",
       " 43: 84.62,\n",
       " 44: 80.77,\n",
       " 45: 79.31,\n",
       " 46: 80.49,\n",
       " 47: 62.96,\n",
       " 48: 82.93,\n",
       " 49: 64.0,\n",
       " 50: 73.68,\n",
       " 51: 63.33,\n",
       " 52: 81.08,\n",
       " 53: 67.65,\n",
       " 54: 72.22,\n",
       " 55: 68.42,\n",
       " 56: 46.15,\n",
       " 57: 50.0,\n",
       " 58: 50.0,\n",
       " 59: 0.0,\n",
       " 60: 0.0,\n",
       " 61: 66.67,\n",
       " 62: 100.0,\n",
       " 65: 0.0,\n",
       " 66: 100.0,\n",
       " 68: 0.0}"
      ]
     },
     "execution_count": 11,
     "metadata": {},
     "output_type": "execute_result"
    }
   ],
   "source": [
    "data_dict = make_fg_by_yard_dict(df)\n",
    "\n",
    "fg_perc_dict = {}\n",
    "for distance in data_dict:\n",
    "    attempts = data_dict[distance][0]\n",
    "    made = data_dict[distance][1]\n",
    "    fg_perc_dict[distance] = round(100*made/attempts, 2)\n",
    "\n",
    "sorted_fg_perc_dict = dict(sorted(fg_perc_dict.items(), key=lambda item: item[0]))\n",
    "sorted_fg_perc_dict"
   ]
  },
  {
   "cell_type": "markdown",
   "id": "dce3d5f9",
   "metadata": {},
   "source": [
    "## Plot fg accuracy by distance with horizontal line for basic average"
   ]
  },
  {
   "cell_type": "code",
   "execution_count": 12,
   "id": "f77674fb",
   "metadata": {},
   "outputs": [
    {
     "data": {
      "image/png": "[encoded data removed]",
      "text/plain": [
       "<Figure size 432x288 with 1 Axes>"
      ]
     },
     "metadata": {
      "needs_background": "light"
     },
     "output_type": "display_data"
    }
   ],
   "source": [
    "plt.bar(x=list(sorted_fg_perc_dict.keys()), height=list(sorted_fg_perc_dict.values()))\n",
    "plt.axhline(y=basic_average, linewidth=1, color='r')\n",
    "plt.title(\"Fg make % by distance\")\n",
    "plt.xlabel(\"Yards\")\n",
    "plt.ylabel(\"Make %\")\n",
    "# get current figure and place text outside of plot\n",
    "plt.gcf().text(0.92, 0.73, \"Red line represents league average for all kicks\", fontsize=12)\n",
    "None"
   ]
  },
  {
   "cell_type": "markdown",
   "id": "d44b52d0",
   "metadata": {},
   "source": [
    "## Make a bet for each kick and see which teams would have made money based on 2021 kicks"
   ]
  },
  {
   "cell_type": "code",
   "execution_count": 13,
   "id": "f6482bc2",
   "metadata": {},
   "outputs": [],
   "source": [
    "def ave_vs_league_ave(fg_dict, df, comp_type):\n",
    "    # key: fg distance, value: payout\n",
    "    payout_dict = {}\n",
    "    wager = 10\n",
    "    for distance in fg_dict:\n",
    "        made = fg_dict[distance][1]\n",
    "        missed = fg_dict[distance][0] - made\n",
    "        if(made > 0):\n",
    "            payout = (missed/made)*wager\n",
    "            payout_dict[distance] = payout\n",
    "    \n",
    "    data_dict = {}\n",
    "    if comp_type == \"team\":\n",
    "        teams = list(df[\"team\"].unique())\n",
    "        for i in range(len(teams)):\n",
    "            data_dict[teams[i]] = 0\n",
    "            \n",
    "    elif comp_type == \"player_name\":\n",
    "        players = list(df[\"player_name\"].unique())\n",
    "        for i in range(len(players)):\n",
    "            data_dict[players[i]] = 0\n",
    "    else:\n",
    "        print(f\"ave_type must be 'team' or 'player_name'. '{ave_type}' is not one of them \")\n",
    "        return\n",
    "    \n",
    "    # go through each row and make bets for each kick and add/subtract total from team's total\n",
    "    for row in range(len(df)):\n",
    "        # access list of made kicks\n",
    "        made_kicks = df.loc[row, \"fg_made_list\"]  \n",
    "        # if list is not empty\n",
    "        if len(made_kicks) > 0:\n",
    "            row_data = df.loc[row, comp_type]\n",
    "            for j in range(len(made_kicks)):\n",
    "                data_dict[row_data] += payout_dict[int(made_kicks[j])]\n",
    "    \n",
    "        missed_kicks = df.loc[row, \"fg_missed_list\"]  \n",
    "        if len(missed_kicks) > 0:\n",
    "            row_data = df.loc[row, comp_type]\n",
    "            for j in range(len(missed_kicks)):\n",
    "                data_dict[row_data] -= wager\n",
    "                \n",
    "        # add blocked kicks here\n",
    "        blocked_kicks = df.loc[row, \"fg_blocked_list\"]\n",
    "        if len(blocked_kicks) > 0:\n",
    "            row_data = df.loc[row, comp_type]\n",
    "            for j in range(len(blocked_kicks)):\n",
    "                data_dict[row_data] -= wager\n",
    "            \n",
    "    # round winnings\n",
    "    for key in data_dict:\n",
    "        data_dict[key] = round(data_dict[key], 2) \n",
    "        \n",
    "    return(data_dict)"
   ]
  },
  {
   "cell_type": "code",
   "execution_count": 14,
   "id": "7623463b",
   "metadata": {
    "scrolled": true
   },
   "outputs": [
    {
     "data": {
      "text/plain": [
       "{'LV': 49.35,\n",
       " 'BAL': 44.22,\n",
       " 'CIN': 34.02,\n",
       " 'CAR': 28.15,\n",
       " 'PIT': 27.86,\n",
       " 'NE': 26.19,\n",
       " 'NYG': 23.41,\n",
       " 'LA': 20.8,\n",
       " 'PHI': 18.75,\n",
       " 'ATL': 17.65,\n",
       " 'KC': 17.12,\n",
       " 'SF': 15.45,\n",
       " 'DET': 9.25,\n",
       " 'DEN': 6.92,\n",
       " 'MIN': 3.76,\n",
       " 'LAC': -4.44,\n",
       " 'CHI': -5.66,\n",
       " 'DAL': -9.08,\n",
       " 'BUF': -9.69,\n",
       " 'WAS': -10.03,\n",
       " 'ARI': -15.41,\n",
       " 'IND': -17.97,\n",
       " 'HOU': -23.25,\n",
       " 'JAX': -23.45,\n",
       " 'NO': -23.72,\n",
       " 'TEN': -24.36,\n",
       " 'NYJ': -26.33,\n",
       " 'CLE': -29.42,\n",
       " 'SEA': -31.81,\n",
       " 'TB': -42.18,\n",
       " 'MIA': -44.11,\n",
       " 'GB': -62.01}"
      ]
     },
     "execution_count": 14,
     "metadata": {},
     "output_type": "execute_result"
    }
   ],
   "source": [
    "team_betting_dict = ave_vs_league_ave(data_dict, df, \"team\")\n",
    "\n",
    "sorted_team_betting_dict = dict(sorted(team_betting_dict.items(), key=lambda item: item[1], reverse=True))\n",
    "sorted_team_betting_dict"
   ]
  },
  {
   "cell_type": "code",
   "execution_count": 15,
   "id": "23fe90df",
   "metadata": {},
   "outputs": [
    {
     "data": {
      "text/plain": [
       "-60.01999999999998"
      ]
     },
     "execution_count": 15,
     "metadata": {},
     "output_type": "execute_result"
    }
   ],
   "source": [
    "sum(team_betting_dict.values())\n",
    "# some kicks do not have any payouts due to no misses"
   ]
  },
  {
   "cell_type": "markdown",
   "id": "f476a81e",
   "metadata": {},
   "source": [
    "### Plot teams' profits/losses"
   ]
  },
  {
   "cell_type": "code",
   "execution_count": 16,
   "id": "ccc51a2c",
   "metadata": {},
   "outputs": [
    {
     "data": {
      "image/png": "[encoded data removed]",
      "text/plain": [
       "<Figure size 432x288 with 1 Axes>"
      ]
     },
     "metadata": {
      "needs_background": "light"
     },
     "output_type": "display_data"
    }
   ],
   "source": [
    "plt.bar(x=list(sorted_team_betting_dict.keys()), height=list(sorted_team_betting_dict.values()))\n",
    "plt.title(\"Team profit\")\n",
    "plt.xlabel(\"Teams\")\n",
    "plt.ylabel(\"Profit ($)\")\n",
    "plt.xticks(rotation=45, fontsize=7)\n",
    "None"
   ]
  },
  {
   "cell_type": "markdown",
   "id": "9e7be133",
   "metadata": {},
   "source": [
    "## Make a bet for each kick and see which kickers would have made money"
   ]
  },
  {
   "cell_type": "code",
   "execution_count": 17,
   "id": "dc92bbc6",
   "metadata": {
    "scrolled": true
   },
   "outputs": [
    {
     "data": {
      "text/plain": [
       "{'D.Carlson': 49.35,\n",
       " 'J.Tucker': 44.22,\n",
       " 'Z.Gonzalez': 35.74,\n",
       " 'E.McPherson': 32.26,\n",
       " 'C.Boswell': 27.86,\n",
       " 'N.Folk': 26.19,\n",
       " 'H.Butker': 24.09,\n",
       " 'G.Gano': 23.41,\n",
       " 'J.Slye': 23.0,\n",
       " 'E.Pineiro': 21.65,\n",
       " 'M.Gay': 20.8,\n",
       " 'J.Elliott': 18.75,\n",
       " 'Y.Koo': 17.65,\n",
       " 'R.Patterson': 13.0,\n",
       " 'R.Gould': 11.5,\n",
       " 'B.Johnson': 7.26,\n",
       " 'B.McManus': 6.92,\n",
       " 'M.Wright': 6.55,\n",
       " 'G.Joseph': 3.76,\n",
       " 'A.Seibert': 3.4,\n",
       " 'D.Hopkins': 2.02,\n",
       " 'C.Naggar': 0.91,\n",
       " 'C.Parkey': 0,\n",
       " 'A.Kessman': 0,\n",
       " 'B.Maher': -0.88,\n",
       " 'D.Eberle': -3.76,\n",
       " 'E.Fry': -5.21,\n",
       " 'C.Santos': -5.66,\n",
       " 'T.Vizcaino': -6.24,\n",
       " 'L.Hajrullahu': -8.01,\n",
       " 'R.Santoso': -8.55,\n",
       " 'G.Zuerlein': -9.08,\n",
       " 'T.Bass': -9.69,\n",
       " 'M.Wishnowsky': -10,\n",
       " 'B.Pinion': -10,\n",
       " 'M.Badgley': -10.49,\n",
       " 'R.Bullock': -14.36,\n",
       " 'M.Prater': -15.41,\n",
       " 'K.Fairbairn': -16.21,\n",
       " 'R.Blankenship': -17.47,\n",
       " 'C.Blewitt': -25.06,\n",
       " 'A.Rosas': -25.8,\n",
       " 'J.Lambo': -30,\n",
       " 'C.McLaughlin': -30.33,\n",
       " 'J.Myers': -31.81,\n",
       " 'R.Succop': -32.18,\n",
       " 'J.Sanders': -44.11,\n",
       " 'M.Ammendola': -47.98,\n",
       " 'M.Crosby': -62.01}"
      ]
     },
     "execution_count": 17,
     "metadata": {},
     "output_type": "execute_result"
    }
   ],
   "source": [
    "player_betting_dict = ave_vs_league_ave(data_dict, df, \"player_name\")\n",
    "\n",
    "sorted_player_betting_dict = dict(sorted(player_betting_dict.items(), key=lambda item: item[1], reverse=True))\n",
    "sorted_player_betting_dict"
   ]
  },
  {
   "cell_type": "markdown",
   "id": "86b6ed17",
   "metadata": {},
   "source": [
    "### Plot kickers' profits/losses"
   ]
  },
  {
   "cell_type": "code",
   "execution_count": 18,
   "id": "879c0005",
   "metadata": {},
   "outputs": [
    {
     "data": {
      "image/png": "[encoded data removed]",
      "text/plain": [
       "<Figure size 432x288 with 1 Axes>"
      ]
     },
     "metadata": {
      "needs_background": "light"
     },
     "output_type": "display_data"
    }
   ],
   "source": [
    "plt.bar(x=list(sorted_player_betting_dict.keys()), height=list(sorted_player_betting_dict.values()))\n",
    "plt.title(\"Players profits\")\n",
    "plt.xlabel(\"Players\")\n",
    "plt.ylabel(\"Profits ($)\")\n",
    "plt.xticks([])\n",
    "None"
   ]
  },
  {
   "cell_type": "markdown",
   "id": "95b2a30c",
   "metadata": {},
   "source": [
    "### Plot top 10 profitable kickers"
   ]
  },
  {
   "cell_type": "code",
   "execution_count": 19,
   "id": "6ff7873c",
   "metadata": {},
   "outputs": [
    {
     "data": {
      "image/png": "[encoded data removed]",
      "text/plain": [
       "<Figure size 432x288 with 1 Axes>"
      ]
     },
     "metadata": {
      "needs_background": "light"
     },
     "output_type": "display_data"
    }
   ],
   "source": [
    "kicker_names = list(sorted_player_betting_dict.keys())\n",
    "kicker_profits = list(sorted_player_betting_dict.values())\n",
    "\n",
    "plt.bar(x=kicker_names[:10], height=kicker_profits[:10])\n",
    "plt.title(\"Top 10 kickers by profits\")\n",
    "plt.xlabel(\"Players\")\n",
    "plt.ylabel(\"Profits ($)\")\n",
    "plt.xticks(rotation=45, fontsize=10)\n",
    "None"
   ]
  },
  {
   "cell_type": "markdown",
   "id": "04fec21e",
   "metadata": {},
   "source": [
    "### Plot bottom 10 profitable kickers"
   ]
  },
  {
   "cell_type": "code",
   "execution_count": 20,
   "id": "0c0968c3",
   "metadata": {},
   "outputs": [
    {
     "data": {
      "image/png": "[encoded data removed]",
      "text/plain": [
       "<Figure size 432x288 with 1 Axes>"
      ]
     },
     "metadata": {
      "needs_background": "light"
     },
     "output_type": "display_data"
    }
   ],
   "source": [
    "plt.bar(x=kicker_names[-10:], height=kicker_profits[-10:])\n",
    "plt.title(\"Bottom 10 kickers by profits\")\n",
    "plt.xlabel(\"Players\")\n",
    "plt.ylabel(\"Profits ($)\")\n",
    "plt.xticks(rotation=45, fontsize=10)\n",
    "None"
   ]
  },
  {
   "cell_type": "markdown",
   "id": "b38df285",
   "metadata": {},
   "source": [
    "### Divide payout by number of attempted kicks"
   ]
  },
  {
   "cell_type": "code",
   "execution_count": 21,
   "id": "fd651217",
   "metadata": {
    "scrolled": true
   },
   "outputs": [
    {
     "data": {
      "text/plain": [
       "{'E.Pineiro': 2.71,\n",
       " 'Z.Gonzalez': 1.7,\n",
       " 'J.Tucker': 1.2,\n",
       " 'D.Carlson': 1.05,\n",
       " 'R.Patterson': 0.93,\n",
       " 'J.Slye': 0.92,\n",
       " 'C.Naggar': 0.91,\n",
       " 'H.Butker': 0.73,\n",
       " 'B.Johnson': 0.73,\n",
       " 'E.McPherson': 0.72,\n",
       " 'G.Gano': 0.71,\n",
       " 'C.Boswell': 0.7,\n",
       " 'N.Folk': 0.65,\n",
       " 'Y.Koo': 0.61,\n",
       " 'J.Elliott': 0.59,\n",
       " 'M.Gay': 0.48,\n",
       " 'R.Gould': 0.4,\n",
       " 'A.Seibert': 0.28,\n",
       " 'M.Wright': 0.27,\n",
       " 'B.McManus': 0.23,\n",
       " 'G.Joseph': 0.1,\n",
       " 'D.Hopkins': 0.06,\n",
       " 'B.Maher': -0.05,\n",
       " 'C.Santos': -0.2,\n",
       " 'G.Zuerlein': -0.25,\n",
       " 'T.Bass': -0.3,\n",
       " 'M.Prater': -0.41,\n",
       " 'R.Bullock': -0.45,\n",
       " 'M.Badgley': -0.48,\n",
       " 'K.Fairbairn': -0.85,\n",
       " 'T.Vizcaino': -0.89,\n",
       " 'R.Succop': -0.95,\n",
       " 'E.Fry': -1.04,\n",
       " 'D.Eberle': -1.25,\n",
       " 'R.Blankenship': -1.34,\n",
       " 'J.Myers': -1.38,\n",
       " 'C.McLaughlin': -1.52,\n",
       " 'J.Sanders': -1.52,\n",
       " 'L.Hajrullahu': -1.6,\n",
       " 'R.Santoso': -1.71,\n",
       " 'M.Crosby': -1.88,\n",
       " 'M.Ammendola': -2.53,\n",
       " 'A.Rosas': -5.16,\n",
       " 'J.Lambo': -10.0,\n",
       " 'M.Wishnowsky': -10.0,\n",
       " 'B.Pinion': -10.0,\n",
       " 'C.Blewitt': -12.53}"
      ]
     },
     "execution_count": 21,
     "metadata": {},
     "output_type": "execute_result"
    }
   ],
   "source": [
    "player_betting_dict_per_kick = {}\n",
    "for player in player_betting_dict.keys():\n",
    "    player_df = df[df[\"player_name\"] == player]\n",
    "    player_df.reset_index(drop=False, inplace=True)\n",
    "    \n",
    "    kicks = 0\n",
    "    for i in range(len(player_df)):\n",
    "        made = len(player_df.loc[i, \"fg_made_list\"])\n",
    "        missed = len(player_df.loc[i, \"fg_missed_list\"])\n",
    "        kicks += made + missed\n",
    "    \n",
    "    if(kicks > 0):\n",
    "        player_betting_dict_per_kick[player] = round(player_betting_dict[player]/kicks, 2)\n",
    "\n",
    "sorted_player_betting_dict_per_kick = dict(sorted(player_betting_dict_per_kick.items(), key=lambda item: item[1], reverse=True))\n",
    "sorted_player_betting_dict_per_kick"
   ]
  },
  {
   "cell_type": "markdown",
   "id": "bf8ea378",
   "metadata": {},
   "source": [
    "### Plot profits/kicks"
   ]
  },
  {
   "cell_type": "code",
   "execution_count": 22,
   "id": "4c31b484",
   "metadata": {},
   "outputs": [
    {
     "data": {
      "image/png": "[encoded data removed]",
      "text/plain": [
       "<Figure size 432x288 with 1 Axes>"
      ]
     },
     "metadata": {
      "needs_background": "light"
     },
     "output_type": "display_data"
    }
   ],
   "source": [
    "plt.bar(x=list(sorted_player_betting_dict_per_kick.keys()), height=list(sorted_player_betting_dict_per_kick.values()))\n",
    "plt.title(\"Players profits per kick\")\n",
    "plt.xlabel(\"Players\")\n",
    "plt.ylabel(\"Profits per kick ($)\")\n",
    "plt.xticks([])\n",
    "None"
   ]
  },
  {
   "cell_type": "markdown",
   "id": "691bd2b2",
   "metadata": {},
   "source": [
    "## set minimum attempts to 10"
   ]
  },
  {
   "cell_type": "code",
   "execution_count": 23,
   "id": "42022c2f",
   "metadata": {
    "scrolled": true
   },
   "outputs": [
    {
     "data": {
      "text/plain": [
       "{'Z.Gonzalez': 1.7,\n",
       " 'J.Tucker': 1.2,\n",
       " 'D.Carlson': 1.05,\n",
       " 'R.Patterson': 0.93,\n",
       " 'J.Slye': 0.92,\n",
       " 'H.Butker': 0.73,\n",
       " 'E.McPherson': 0.72,\n",
       " 'G.Gano': 0.71,\n",
       " 'C.Boswell': 0.7,\n",
       " 'N.Folk': 0.65,\n",
       " 'Y.Koo': 0.61,\n",
       " 'J.Elliott': 0.59,\n",
       " 'M.Gay': 0.48,\n",
       " 'R.Gould': 0.4,\n",
       " 'A.Seibert': 0.28,\n",
       " 'M.Wright': 0.27,\n",
       " 'B.McManus': 0.23,\n",
       " 'G.Joseph': 0.1,\n",
       " 'D.Hopkins': 0.06,\n",
       " 'B.Maher': -0.05,\n",
       " 'C.Santos': -0.2,\n",
       " 'G.Zuerlein': -0.25,\n",
       " 'T.Bass': -0.3,\n",
       " 'M.Prater': -0.41,\n",
       " 'R.Bullock': -0.45,\n",
       " 'M.Badgley': -0.48,\n",
       " 'K.Fairbairn': -0.85,\n",
       " 'R.Succop': -0.95,\n",
       " 'R.Blankenship': -1.34,\n",
       " 'J.Myers': -1.38,\n",
       " 'C.McLaughlin': -1.52,\n",
       " 'J.Sanders': -1.52,\n",
       " 'M.Crosby': -1.88,\n",
       " 'M.Ammendola': -2.53}"
      ]
     },
     "execution_count": 23,
     "metadata": {},
     "output_type": "execute_result"
    }
   ],
   "source": [
    "player_betting_dict_per_kick = {}\n",
    "for player in player_betting_dict.keys():\n",
    "    player_df = df[df[\"player_name\"] == player]\n",
    "    player_df.reset_index(drop=False, inplace=True)\n",
    "    \n",
    "    kicks = 0\n",
    "    for i in range(len(player_df)):\n",
    "        made = len(player_df.loc[i, \"fg_made_list\"])\n",
    "        missed = len(player_df.loc[i, \"fg_missed_list\"])\n",
    "        kicks += made + missed\n",
    "    \n",
    "    if(kicks > 10):\n",
    "        player_betting_dict_per_kick[player] = round(player_betting_dict[player]/kicks, 2)\n",
    "\n",
    "sorted_player_betting_dict_per_kick = dict(sorted(player_betting_dict_per_kick.items(), key=lambda item: item[1], reverse=True))\n",
    "sorted_player_betting_dict_per_kick"
   ]
  },
  {
   "cell_type": "markdown",
   "id": "6346d88d",
   "metadata": {},
   "source": [
    "### Plot profitability per kick (min 10 attempts)"
   ]
  },
  {
   "cell_type": "code",
   "execution_count": 24,
   "id": "18c61178",
   "metadata": {},
   "outputs": [
    {
     "data": {
      "image/png": "[encoded data removed]",
      "text/plain": [
       "<Figure size 432x288 with 1 Axes>"
      ]
     },
     "metadata": {
      "needs_background": "light"
     },
     "output_type": "display_data"
    }
   ],
   "source": [
    "plt.bar(x=list(sorted_player_betting_dict_per_kick.keys()), height=list(sorted_player_betting_dict_per_kick.values()))\n",
    "plt.title(\"Players profits per kick\")\n",
    "plt.xlabel(\"Players\")\n",
    "plt.ylabel(\"Profits per kick ($)\")\n",
    "plt.xticks([])\n",
    "None"
   ]
  },
  {
   "cell_type": "markdown",
   "id": "03e58249",
   "metadata": {},
   "source": [
    "### Plot top 10 profitable players by kicks (10 kick min)"
   ]
  },
  {
   "cell_type": "code",
   "execution_count": 25,
   "id": "cf8e7634",
   "metadata": {},
   "outputs": [
    {
     "data": {
      "image/png": "[encoded data removed]",
      "text/plain": [
       "<Figure size 432x288 with 1 Axes>"
      ]
     },
     "metadata": {
      "needs_background": "light"
     },
     "output_type": "display_data"
    }
   ],
   "source": [
    "kicker_names_per_kick = list(sorted_player_betting_dict_per_kick.keys())\n",
    "kicker_profits_per_kick = list(sorted_player_betting_dict_per_kick.values())\n",
    "\n",
    "plt.bar(x=kicker_names_per_kick[:10], height=kicker_profits_per_kick[:10])\n",
    "plt.title(\"Top 10 kickers by profits (min 10 attempts)\")\n",
    "plt.xlabel(\"Players\")\n",
    "plt.ylabel(\"Profits ($)\")\n",
    "plt.xticks(rotation=90, fontsize=10)\n",
    "None"
   ]
  },
  {
   "cell_type": "markdown",
   "id": "115f6098",
   "metadata": {},
   "source": [
    "### Plot bottom 10 profitable players by kicks (10 kick min)"
   ]
  },
  {
   "cell_type": "code",
   "execution_count": 26,
   "id": "f1348939",
   "metadata": {},
   "outputs": [
    {
     "data": {
      "image/png": "[encoded data removed]",
      "text/plain": [
       "<Figure size 432x288 with 1 Axes>"
      ]
     },
     "metadata": {
      "needs_background": "light"
     },
     "output_type": "display_data"
    }
   ],
   "source": [
    "plt.bar(x=kicker_names_per_kick[-10:], height=kicker_profits_per_kick[-10:])\n",
    "plt.title(\"Bottom 10 kickers by profits (min 10 attempts)\")\n",
    "plt.xlabel(\"Players\")\n",
    "plt.ylabel(\"Profits ($)\")\n",
    "plt.xticks(rotation=90, fontsize=10)\n",
    "None"
   ]
  },
  {
   "cell_type": "markdown",
   "id": "522233fd",
   "metadata": {},
   "source": [
    "# Function to select a player and display: kicker profit, ranking overall, and plot of 5 players more profitable (if possible) + 5 players less profitable (if possible)"
   ]
  },
  {
   "cell_type": "code",
   "execution_count": 27,
   "id": "363e461d",
   "metadata": {},
   "outputs": [],
   "source": [
    "def worse_kickers(kicker_rank):\n",
    "    if kicker_rank+5 < len(kicker_names):\n",
    "        return [kicker_names[i] for i in range(kicker_rank+1, kicker_rank+6)]\n",
    "        \n",
    "    temp = 1\n",
    "    temp_list = []\n",
    "    while(kicker_rank+temp < len(kicker_names)):\n",
    "        temp_list.append(kicker_names[kicker_rank+temp])\n",
    "        temp += 1\n",
    "        \n",
    "    return temp_list"
   ]
  },
  {
   "cell_type": "code",
   "execution_count": 28,
   "id": "2b72a132",
   "metadata": {},
   "outputs": [],
   "source": [
    "def better_kickers(kicker_rank):\n",
    "    if kicker_rank-5 > 0:\n",
    "        return [kicker_names[i] for i in range(kicker_rank-1, kicker_rank-6, -1)]   \n",
    "    \n",
    "    temp = 1\n",
    "    temp_list = []\n",
    "    while(kicker_rank-temp >= 0):\n",
    "        temp_list.append(kicker_names[kicker_rank-temp])\n",
    "        temp += 1\n",
    "\n",
    "    return temp_list"
   ]
  },
  {
   "cell_type": "code",
   "execution_count": 29,
   "id": "d08f76b7",
   "metadata": {},
   "outputs": [],
   "source": [
    "# MAYBE RENAME\n",
    "def player_stats():\n",
    "    player_name = input(\"Please select a name from the list above: \")\n",
    "    # make sure name is valid to continue\n",
    "    if player_name not in kicker_names:\n",
    "        print(\"Please select a name from the list above next time!\")\n",
    "        return\n",
    "    \n",
    "    # get the player ranking and profit\n",
    "    kicker_index = kicker_names.index(player_name)\n",
    "    player_profit = kicker_profits[kicker_index]\n",
    "    if player_profit >= 0:\n",
    "        profit_str = \"$\" + str(player_profit)\n",
    "    else:\n",
    "        profit_str = \"-$\" + str(player_profit*-1)\n",
    "    print(f\"{player_name} has a profit of {profit_str} and is ranked #{kicker_index+1}\")\n",
    "    \n",
    "    # MAYBE JUST GET LIST IN REVERSE ORDER?\n",
    "    # OR COMBINE BETTER_KICKERS AND WORSE_KICKERS \n",
    "    #AND RETURN COMBINED LIST WITH SELECTED PLAYER INCLUDED\n",
    "    # get list of 5 better kickers (if possible)\n",
    "    better = better_kickers(kicker_index)\n",
    "    # then do reverse order so profits are ordered high to low\n",
    "    better.reverse()\n",
    "    \n",
    "    # get list of 5 worse kickers (if possible)\n",
    "    worse = worse_kickers(kicker_index)\n",
    "    \n",
    "    # combine better, player name, and worst to plot (x-axis)\n",
    "    combined = better + [player_name] + worse\n",
    "    # create and combine better_profits, player_profits, and worse_profits (y-axis)\n",
    "    better_profits = [kicker_profits[kicker_names.index(better[i])] for i in range(len(better))]\n",
    "    worse_profits = [kicker_profits[kicker_names.index(worse[i])] for i in range(len(worse))]\n",
    "    combined_profits = better_profits + [player_profit] + worse_profits\n",
    "    \n",
    "    # plots the combined results\n",
    "    plt.bar(x=combined, height=combined_profits)\n",
    "    plt.xticks(rotation=90)\n",
    "    # LABLE SHIT\n",
    "    # MAYBE ADD PROFIT AT TOP/BOTTOM OF EACH BAR\n",
    "    \n",
    "    return"
   ]
  },
  {
   "cell_type": "code",
   "execution_count": 30,
   "id": "aeba32da",
   "metadata": {},
   "outputs": [
    {
     "name": "stdout",
     "output_type": "stream",
     "text": [
      "['D.Carlson', 'J.Tucker', 'Z.Gonzalez', 'E.McPherson', 'C.Boswell', 'N.Folk', 'H.Butker', 'G.Gano', 'J.Slye', 'E.Pineiro', 'M.Gay', 'J.Elliott', 'Y.Koo', 'R.Patterson', 'R.Gould', 'B.Johnson', 'B.McManus', 'M.Wright', 'G.Joseph', 'A.Seibert', 'D.Hopkins', 'C.Naggar', 'C.Parkey', 'A.Kessman', 'B.Maher', 'D.Eberle', 'E.Fry', 'C.Santos', 'T.Vizcaino', 'L.Hajrullahu', 'R.Santoso', 'G.Zuerlein', 'T.Bass', 'M.Wishnowsky', 'B.Pinion', 'M.Badgley', 'R.Bullock', 'M.Prater', 'K.Fairbairn', 'R.Blankenship', 'C.Blewitt', 'A.Rosas', 'J.Lambo', 'C.McLaughlin', 'J.Myers', 'R.Succop', 'J.Sanders', 'M.Ammendola', 'M.Crosby']\n"
     ]
    }
   ],
   "source": [
    "# list of players to choose from\n",
    "print(kicker_names)"
   ]
  },
  {
   "cell_type": "code",
   "execution_count": 31,
   "id": "7761e162",
   "metadata": {},
   "outputs": [
    {
     "name": "stdout",
     "output_type": "stream",
     "text": [
      "Please select a name from the list above: C.Parkey\n",
      "C.Parkey has a profit of $0 and is ranked #23\n"
     ]
    },
    {
     "data": {
      "image/png": "[encoded data removed]",
      "text/plain": [
       "<Figure size 432x288 with 1 Axes>"
      ]
     },
     "metadata": {
      "needs_background": "light"
     },
     "output_type": "display_data"
    }
   ],
   "source": [
    "player_stats()"
   ]
  }
 ],
 "metadata": {
  "kernelspec": {
   "display_name": "Python 3",
   "language": "python",
   "name": "python3"
  },
  "language_info": {
   "codemirror_mode": {
    "name": "ipython",
    "version": 3
   },
   "file_extension": ".py",
   "mimetype": "text/x-python",
   "name": "python",
   "nbconvert_exporter": "python",
   "pygments_lexer": "ipython3",
   "version": "3.8.8"
  }
 },
 "nbformat": 4,
 "nbformat_minor": 5
}
